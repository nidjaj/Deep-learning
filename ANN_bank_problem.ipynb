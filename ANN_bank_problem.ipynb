{
  "nbformat": 4,
  "nbformat_minor": 0,
  "metadata": {
    "colab": {
      "name": "ANN_bank_problem.ipynb",
      "version": "0.3.2",
      "provenance": [],
      "collapsed_sections": [],
      "toc_visible": true,
      "include_colab_link": true
    },
    "kernelspec": {
      "name": "python3",
      "display_name": "Python 3"
    }
  },
  "cells": [
    {
      "cell_type": "markdown",
      "metadata": {
        "id": "view-in-github",
        "colab_type": "text"
      },
      "source": [
        "<a href=\"https://colab.research.google.com/github/nidjaj/Deep-learning/blob/master/ANN_bank_problem.ipynb\" target=\"_parent\"><img src=\"https://colab.research.google.com/assets/colab-badge.svg\" alt=\"Open In Colab\"/></a>"
      ]
    },
    {
      "cell_type": "code",
      "metadata": {
        "id": "thsrVfSQv58b",
        "colab_type": "code",
        "colab": {}
      },
      "source": [
        "import pandas as pd\n",
        "import numpy as np\n",
        "import matplotlib.pyplot as plt\n",
        "import seaborn as sb"
      ],
      "execution_count": 0,
      "outputs": []
    },
    {
      "cell_type": "code",
      "metadata": {
        "id": "n4iLI5wQv-dQ",
        "colab_type": "code",
        "colab": {}
      },
      "source": [
        "df=pd.read_csv('http://13.234.66.67/summer19/datasets/bank.csv')"
      ],
      "execution_count": 0,
      "outputs": []
    },
    {
      "cell_type": "code",
      "metadata": {
        "id": "fSxxZR2Q0GHG",
        "colab_type": "code",
        "outputId": "6e820e08-bc03-4f5e-a5bb-fa5876ac357a",
        "colab": {
          "base_uri": "https://localhost:8080/",
          "height": 300
        }
      },
      "source": [
        "# countplot by seaborn\n",
        "sb.countplot(df['Gender'])"
      ],
      "execution_count": 3,
      "outputs": [
        {
          "output_type": "execute_result",
          "data": {
            "text/plain": [
              "<matplotlib.axes._subplots.AxesSubplot at 0x7f68a9fada90>"
            ]
          },
          "metadata": {
            "tags": []
          },
          "execution_count": 3
        },
        {
          "output_type": "display_data",
          "data": {
            "image/png": "[encoded data removed]",
            "text/plain": [
              "<Figure size 432x288 with 1 Axes>"
            ]
          },
          "metadata": {
            "tags": []
          }
        }
      ]
    },
    {
      "cell_type": "code",
      "metadata": {
        "id": "w30RC6Yz0U6_",
        "colab_type": "code",
        "outputId": "8eb8c559-f203-4cca-f772-16fac16ab4a1",
        "colab": {
          "base_uri": "https://localhost:8080/",
          "height": 300
        }
      },
      "source": [
        "# compare countries\n",
        "sb.countplot(df['Geography'])"
      ],
      "execution_count": 4,
      "outputs": [
        {
          "output_type": "execute_result",
          "data": {
            "text/plain": [
              "<matplotlib.axes._subplots.AxesSubplot at 0x7f68a7674eb8>"
            ]
          },
          "metadata": {
            "tags": []
          },
          "execution_count": 4
        },
        {
          "output_type": "display_data",
          "data": {
            "image/png": "[encoded data removed]",
            "text/plain": [
              "<Figure size 432x288 with 1 Axes>"
            ]
          },
          "metadata": {
            "tags": []
          }
        }
      ]
    },
    {
      "cell_type": "code",
      "metadata": {
        "id": "g_kOggdd0tc2",
        "colab_type": "code",
        "outputId": "50152cd4-9a1c-4a8a-b809-708fb4470bac",
        "colab": {
          "base_uri": "https://localhost:8080/",
          "height": 1000
        }
      },
      "source": [
        "# histogrm\n",
        "df.hist(figsize=(10,15))"
      ],
      "execution_count": 5,
      "outputs": [
        {
          "output_type": "execute_result",
          "data": {
            "text/plain": [
              "array([[<matplotlib.axes._subplots.AxesSubplot object at 0x7f68a7656d30>,\n",
              "        <matplotlib.axes._subplots.AxesSubplot object at 0x7f68a76082e8>,\n",
              "        <matplotlib.axes._subplots.AxesSubplot object at 0x7f68a762c828>],\n",
              "       [<matplotlib.axes._subplots.AxesSubplot object at 0x7f68a75d5da0>,\n",
              "        <matplotlib.axes._subplots.AxesSubplot object at 0x7f68a7586358>,\n",
              "        <matplotlib.axes._subplots.AxesSubplot object at 0x7f68a75ad8d0>],\n",
              "       [<matplotlib.axes._subplots.AxesSubplot object at 0x7f68a7555e48>,\n",
              "        <matplotlib.axes._subplots.AxesSubplot object at 0x7f68a7508438>,\n",
              "        <matplotlib.axes._subplots.AxesSubplot object at 0x7f68a7508470>],\n",
              "       [<matplotlib.axes._subplots.AxesSubplot object at 0x7f68a74d7ef0>,\n",
              "        <matplotlib.axes._subplots.AxesSubplot object at 0x7f68a74874a8>,\n",
              "        <matplotlib.axes._subplots.AxesSubplot object at 0x7f68a742fa20>]],\n",
              "      dtype=object)"
            ]
          },
          "metadata": {
            "tags": []
          },
          "execution_count": 5
        },
        {
          "output_type": "display_data",
          "data": {
            "image/png": "[encoded data removed]",
            "text/plain": [
              "<Figure size 720x1080 with 12 Axes>"
            ]
          },
          "metadata": {
            "tags": []
          }
        }
      ]
    },
    {
      "cell_type": "code",
      "metadata": {
        "id": "kYDfiNZ71FqB",
        "colab_type": "code",
        "colab": {}
      },
      "source": [
        "# traning and label of data\n",
        "features=df.iloc[0:,3:13].values"
      ],
      "execution_count": 0,
      "outputs": []
    },
    {
      "cell_type": "code",
      "metadata": {
        "id": "FscTke0D1z-l",
        "colab_type": "code",
        "outputId": "877f1cea-821e-4b56-c2a4-d226098b9fe0",
        "colab": {
          "base_uri": "https://localhost:8080/",
          "height": 134
        }
      },
      "source": [
        "features"
      ],
      "execution_count": 7,
      "outputs": [
        {
          "output_type": "execute_result",
          "data": {
            "text/plain": [
              "array([[619, 'France', 'Female', ..., 1, 1, 101348.88],\n",
              "       [608, 'Spain', 'Female', ..., 0, 1, 112542.58],\n",
              "       [502, 'France', 'Female', ..., 1, 0, 113931.57],\n",
              "       ...,\n",
              "       [709, 'France', 'Female', ..., 0, 1, 42085.58],\n",
              "       [772, 'Germany', 'Male', ..., 1, 0, 92888.52],\n",
              "       [792, 'France', 'Female', ..., 1, 0, 38190.78]], dtype=object)"
            ]
          },
          "metadata": {
            "tags": []
          },
          "execution_count": 7
        }
      ]
    },
    {
      "cell_type": "code",
      "metadata": {
        "id": "NsIkYbxI15hd",
        "colab_type": "code",
        "colab": {}
      },
      "source": [
        "# bank exit status that is enable\n",
        "label=df.iloc[:,13].values"
      ],
      "execution_count": 0,
      "outputs": []
    },
    {
      "cell_type": "code",
      "metadata": {
        "id": "dLqMbamx2Nv6",
        "colab_type": "code",
        "outputId": "99cb7850-4603-447c-bee1-bcc1e3b726aa",
        "colab": {
          "base_uri": "https://localhost:8080/",
          "height": 33
        }
      },
      "source": [
        "label"
      ],
      "execution_count": 9,
      "outputs": [
        {
          "output_type": "execute_result",
          "data": {
            "text/plain": [
              "array([1, 0, 1, ..., 1, 1, 0])"
            ]
          },
          "metadata": {
            "tags": []
          },
          "execution_count": 9
        }
      ]
    },
    {
      "cell_type": "code",
      "metadata": {
        "id": "ejV7WOw62Ox9",
        "colab_type": "code",
        "colab": {}
      },
      "source": [
        "# convert string data into numeric we can apply label encoding\n",
        "from sklearn.preprocessing import LabelEncoder"
      ],
      "execution_count": 0,
      "outputs": []
    },
    {
      "cell_type": "code",
      "metadata": {
        "id": "qAg8Tjzb2pVs",
        "colab_type": "code",
        "colab": {}
      },
      "source": [
        "country=LabelEncoder() # function call"
      ],
      "execution_count": 0,
      "outputs": []
    },
    {
      "cell_type": "code",
      "metadata": {
        "id": "0_X2FZ_f2tct",
        "colab_type": "code",
        "colab": {}
      },
      "source": [
        "features[0:,1]=country.fit_transform(features[0:,1])"
      ],
      "execution_count": 0,
      "outputs": []
    },
    {
      "cell_type": "code",
      "metadata": {
        "id": "H_NKV3wH3OiY",
        "colab_type": "code",
        "outputId": "e4e24df1-836d-49e5-f7fa-2e9d9971d037",
        "colab": {
          "base_uri": "https://localhost:8080/",
          "height": 33
        }
      },
      "source": [
        "features.shape"
      ],
      "execution_count": 13,
      "outputs": [
        {
          "output_type": "execute_result",
          "data": {
            "text/plain": [
              "(10000, 10)"
            ]
          },
          "metadata": {
            "tags": []
          },
          "execution_count": 13
        }
      ]
    },
    {
      "cell_type": "code",
      "metadata": {
        "id": "hJBMrZZA3UfA",
        "colab_type": "code",
        "colab": {
          "base_uri": "https://localhost:8080/",
          "height": 33
        },
        "outputId": "853f1ab1-f777-451b-e5ef-5149105ac9ec"
      },
      "source": [
        "# same for gender\n",
        "features[0:,2]=country.fit_transform(features[0:,2])\n",
        "features.shape\n"
      ],
      "execution_count": 14,
      "outputs": [
        {
          "output_type": "execute_result",
          "data": {
            "text/plain": [
              "(10000, 10)"
            ]
          },
          "metadata": {
            "tags": []
          },
          "execution_count": 14
        }
      ]
    },
    {
      "cell_type": "code",
      "metadata": {
        "id": "E8JRycTL30YN",
        "colab_type": "code",
        "outputId": "acdce1e3-5e4e-42c6-b7d9-974e3d5698d1",
        "colab": {
          "base_uri": "https://localhost:8080/",
          "height": 134
        }
      },
      "source": [
        "features"
      ],
      "execution_count": 15,
      "outputs": [
        {
          "output_type": "execute_result",
          "data": {
            "text/plain": [
              "array([[619, 0, 0, ..., 1, 1, 101348.88],\n",
              "       [608, 2, 0, ..., 0, 1, 112542.58],\n",
              "       [502, 0, 0, ..., 1, 0, 113931.57],\n",
              "       ...,\n",
              "       [709, 0, 0, ..., 0, 1, 42085.58],\n",
              "       [772, 1, 1, ..., 1, 0, 92888.52],\n",
              "       [792, 0, 0, ..., 1, 0, 38190.78]], dtype=object)"
            ]
          },
          "metadata": {
            "tags": []
          },
          "execution_count": 15
        }
      ]
    },
    {
      "cell_type": "code",
      "metadata": {
        "id": "LTud0jKV3202",
        "colab_type": "code",
        "colab": {}
      },
      "source": [
        "# creating dummy variable using onehot encoder\n",
        "from sklearn.preprocessing import OneHotEncoder\n",
        "counthot=OneHotEncoder(categorical_features=[1])\n"
      ],
      "execution_count": 0,
      "outputs": []
    },
    {
      "cell_type": "markdown",
      "metadata": {
        "id": "RmQNVEJtCGp4",
        "colab_type": "text"
      },
      "source": [
        "features1.shape"
      ]
    },
    {
      "cell_type": "code",
      "metadata": {
        "id": "hncmBqGS46Kn",
        "colab_type": "code",
        "outputId": "9afb3882-65f9-4fb1-8c03-f9c32eb68bc2",
        "colab": {
          "base_uri": "https://localhost:8080/",
          "height": 137
        }
      },
      "source": [
        "# fit and transform\n",
        "features=counthot.fit_transform(features).toarray()\n",
        "features1=features[:,1:]"
      ],
      "execution_count": 17,
      "outputs": [
        {
          "output_type": "stream",
          "text": [
            "/usr/local/lib/python3.6/dist-packages/sklearn/preprocessing/_encoders.py:415: FutureWarning: The handling of integer data will change in version 0.22. Currently, the categories are determined based on the range [0, max(values)], while in the future they will be determined based on the unique values.\n",
            "If you want the future behaviour and silence this warning, you can specify \"categories='auto'\".\n",
            "In case you used a LabelEncoder before this OneHotEncoder to convert the categories to integers, then you can now use the OneHotEncoder directly.\n",
            "  warnings.warn(msg, FutureWarning)\n",
            "/usr/local/lib/python3.6/dist-packages/sklearn/preprocessing/_encoders.py:451: DeprecationWarning: The 'categorical_features' keyword is deprecated in version 0.20 and will be removed in 0.22. You can use the ColumnTransformer instead.\n",
            "  \"use the ColumnTransformer instead.\", DeprecationWarning)\n"
          ],
          "name": "stderr"
        }
      ]
    },
    {
      "cell_type": "code",
      "metadata": {
        "id": "x2o2sSoSA_yH",
        "colab_type": "code",
        "colab": {
          "base_uri": "https://localhost:8080/",
          "height": 33
        },
        "outputId": "aa01e067-9a4e-4511-a328-e4c41c80d61f"
      },
      "source": [
        "features1.shape"
      ],
      "execution_count": 18,
      "outputs": [
        {
          "output_type": "execute_result",
          "data": {
            "text/plain": [
              "(10000, 11)"
            ]
          },
          "metadata": {
            "tags": []
          },
          "execution_count": 18
        }
      ]
    },
    {
      "cell_type": "code",
      "metadata": {
        "id": "7vqiQdXG51MX",
        "colab_type": "code",
        "colab": {}
      },
      "source": [
        "# traning and testing \n",
        "from sklearn.model_selection import train_test_split"
      ],
      "execution_count": 0,
      "outputs": []
    },
    {
      "cell_type": "code",
      "metadata": {
        "id": "rUpi9kwX8LB3",
        "colab_type": "code",
        "colab": {}
      },
      "source": [
        "X,x,Y,y=train_test_split(features1,label,test_size=0.2)"
      ],
      "execution_count": 0,
      "outputs": []
    },
    {
      "cell_type": "code",
      "metadata": {
        "id": "-31o8CZq8irB",
        "colab_type": "code",
        "colab": {}
      },
      "source": [
        "# feature scalling\n",
        "from sklearn.preprocessing import StandardScaler"
      ],
      "execution_count": 0,
      "outputs": []
    },
    {
      "cell_type": "code",
      "metadata": {
        "id": "AGrVPf1L821Z",
        "colab_type": "code",
        "colab": {}
      },
      "source": [
        "sc=StandardScaler()"
      ],
      "execution_count": 0,
      "outputs": []
    },
    {
      "cell_type": "code",
      "metadata": {
        "id": "2RqPKygL9HOY",
        "colab_type": "code",
        "colab": {}
      },
      "source": [
        "# traning and scale\n",
        "X=sc.fit_transform(X)"
      ],
      "execution_count": 0,
      "outputs": []
    },
    {
      "cell_type": "code",
      "metadata": {
        "id": "TQ2aSn6WOQqF",
        "colab_type": "code",
        "colab": {}
      },
      "source": [
        "x=sc.transform(x)"
      ],
      "execution_count": 0,
      "outputs": []
    },
    {
      "cell_type": "code",
      "metadata": {
        "id": "4Zr4p5jc9Org",
        "colab_type": "code",
        "colab": {
          "base_uri": "https://localhost:8080/",
          "height": 33
        },
        "outputId": "c28013b8-a886-43ed-cc42-610d150b2bb2"
      },
      "source": [
        "x.shape"
      ],
      "execution_count": 41,
      "outputs": [
        {
          "output_type": "execute_result",
          "data": {
            "text/plain": [
              "(2000, 11)"
            ]
          },
          "metadata": {
            "tags": []
          },
          "execution_count": 41
        }
      ]
    },
    {
      "cell_type": "code",
      "metadata": {
        "id": "Diao1qYQ9Rgi",
        "colab_type": "code",
        "colab": {
          "base_uri": "https://localhost:8080/",
          "height": 33
        },
        "outputId": "3e13af40-a4c5-4491-9373-c40534b144c7"
      },
      "source": [
        "X.shape"
      ],
      "execution_count": 42,
      "outputs": [
        {
          "output_type": "execute_result",
          "data": {
            "text/plain": [
              "(8000, 11)"
            ]
          },
          "metadata": {
            "tags": []
          },
          "execution_count": 42
        }
      ]
    },
    {
      "cell_type": "markdown",
      "metadata": {
        "id": "HXUHwWCXChOt",
        "colab_type": "text"
      },
      "source": [
        "# now we can create ANN model"
      ]
    },
    {
      "cell_type": "code",
      "metadata": {
        "id": "mW1SjAmdCmRZ",
        "colab_type": "code",
        "colab": {}
      },
      "source": [
        "import keras # this is the way of using tensorflow in background\n"
      ],
      "execution_count": 0,
      "outputs": []
    },
    {
      "cell_type": "code",
      "metadata": {
        "id": "Js3B1oqRC0Fa",
        "colab_type": "code",
        "colab": {}
      },
      "source": [
        "# keras ANN model library import\n",
        "from keras.models import Sequential "
      ],
      "execution_count": 0,
      "outputs": []
    },
    {
      "cell_type": "code",
      "metadata": {
        "id": "uRaosJHFDLtZ",
        "colab_type": "code",
        "colab": {}
      },
      "source": [
        "# filling data in each layer.. \n",
        "from keras.layers import Dense\n",
        "# this will give the method to decide activation function and number of codes in each layer \n",
        "# including input ,hidden and output layer\n"
      ],
      "execution_count": 0,
      "outputs": []
    },
    {
      "cell_type": "code",
      "metadata": {
        "id": "Qjqv4NFdDclW",
        "colab_type": "code",
        "colab": {}
      },
      "source": [
        "# now we can design model\n",
        "model=Sequential()"
      ],
      "execution_count": 0,
      "outputs": []
    },
    {
      "cell_type": "code",
      "metadata": {
        "id": "ekkHuwX7EIk1",
        "colab_type": "code",
        "colab": {}
      },
      "source": [
        "# now we can add input layer \n",
        "model.add(Dense(6,input_shape=(11,),activation='relu'))\n",
        "# this relu means rectifier activation function\n",
        "\n",
        "\n"
      ],
      "execution_count": 0,
      "outputs": []
    },
    {
      "cell_type": "code",
      "metadata": {
        "id": "1OPi77pHGahe",
        "colab_type": "code",
        "colab": {}
      },
      "source": [
        "# adding one row hidden layer\n",
        "model.add(Dense(6,activation='relu'))\n",
        "# note we don't have to assign number of inputs after first /input layer"
      ],
      "execution_count": 0,
      "outputs": []
    },
    {
      "cell_type": "code",
      "metadata": {
        "id": "vIockIQUHQs_",
        "colab_type": "code",
        "colab": {}
      },
      "source": [
        "# final layer adding \n",
        "model.add(Dense(1,activation='sigmoid'))"
      ],
      "execution_count": 0,
      "outputs": []
    },
    {
      "cell_type": "code",
      "metadata": {
        "id": "aGWIbFxfIEId",
        "colab_type": "code",
        "colab": {}
      },
      "source": [
        "#  compile \n",
        "model.compile(optimizer='adam',loss='binary_crossentropy',metrics=['accuracy'])\n",
        "# optimizer -- weight adjusting method -- stochitis g d(adam)\n"
      ],
      "execution_count": 0,
      "outputs": []
    },
    {
      "cell_type": "code",
      "metadata": {
        "id": "jgJRSOB_Vjyi",
        "colab_type": "code",
        "colab": {}
      },
      "source": [
        ""
      ],
      "execution_count": 0,
      "outputs": []
    },
    {
      "cell_type": "code",
      "metadata": {
        "id": "9oeXTfSEJeAf",
        "colab_type": "code",
        "colab": {
          "base_uri": "https://localhost:8080/",
          "height": 1000
        },
        "outputId": "5e4fc8ff-f599-46bf-f812-0e66c22bb9d6"
      },
      "source": [
        "# traning data fit\n",
        "model.fit(X,Y,batch_size=2000,epochs=100)"
      ],
      "execution_count": 51,
      "outputs": [
        {
          "output_type": "stream",
          "text": [
            "W0708 11:29:02.507596 140088242083712 deprecation_wrapper.py:119] From /usr/local/lib/python3.6/dist-packages/keras/backend/tensorflow_backend.py:986: The name tf.assign_add is deprecated. Please use tf.compat.v1.assign_add instead.\n",
            "\n"
          ],
          "name": "stderr"
        },
        {
          "output_type": "stream",
          "text": [
            "Epoch 1/100\n",
            "8000/8000 [==============================] - 1s 93us/step - loss: 0.8054 - acc: 0.3896\n",
            "Epoch 2/100\n",
            "8000/8000 [==============================] - 0s 2us/step - loss: 0.7907 - acc: 0.4046\n",
            "Epoch 3/100\n",
            "8000/8000 [==============================] - 0s 2us/step - loss: 0.7758 - acc: 0.4236\n",
            "Epoch 4/100\n",
            "8000/8000 [==============================] - 0s 2us/step - loss: 0.7615 - acc: 0.4498\n",
            "Epoch 5/100\n",
            "8000/8000 [==============================] - 0s 2us/step - loss: 0.7478 - acc: 0.4659\n",
            "Epoch 6/100\n",
            "8000/8000 [==============================] - 0s 2us/step - loss: 0.7351 - acc: 0.4842\n",
            "Epoch 7/100\n",
            "8000/8000 [==============================] - 0s 2us/step - loss: 0.7230 - acc: 0.5028\n",
            "Epoch 8/100\n",
            "8000/8000 [==============================] - 0s 2us/step - loss: 0.7120 - acc: 0.5245\n",
            "Epoch 9/100\n",
            "8000/8000 [==============================] - 0s 2us/step - loss: 0.7015 - acc: 0.5458\n",
            "Epoch 10/100\n",
            "8000/8000 [==============================] - 0s 2us/step - loss: 0.6917 - acc: 0.5683\n",
            "Epoch 11/100\n",
            "8000/8000 [==============================] - 0s 2us/step - loss: 0.6827 - acc: 0.5924\n",
            "Epoch 12/100\n",
            "8000/8000 [==============================] - 0s 2us/step - loss: 0.6742 - acc: 0.6129\n",
            "Epoch 13/100\n",
            "8000/8000 [==============================] - 0s 1us/step - loss: 0.6661 - acc: 0.6304\n",
            "Epoch 14/100\n",
            "8000/8000 [==============================] - 0s 2us/step - loss: 0.6586 - acc: 0.6461\n",
            "Epoch 15/100\n",
            "8000/8000 [==============================] - 0s 1us/step - loss: 0.6515 - acc: 0.6619\n",
            "Epoch 16/100\n",
            "8000/8000 [==============================] - 0s 1us/step - loss: 0.6447 - acc: 0.6795\n",
            "Epoch 17/100\n",
            "8000/8000 [==============================] - 0s 2us/step - loss: 0.6383 - acc: 0.6961\n",
            "Epoch 18/100\n",
            "8000/8000 [==============================] - 0s 1us/step - loss: 0.6323 - acc: 0.7060\n",
            "Epoch 19/100\n",
            "8000/8000 [==============================] - 0s 1us/step - loss: 0.6263 - acc: 0.7173\n",
            "Epoch 20/100\n",
            "8000/8000 [==============================] - 0s 2us/step - loss: 0.6208 - acc: 0.7250\n",
            "Epoch 21/100\n",
            "8000/8000 [==============================] - 0s 2us/step - loss: 0.6155 - acc: 0.7346\n",
            "Epoch 22/100\n",
            "8000/8000 [==============================] - 0s 2us/step - loss: 0.6103 - acc: 0.7411\n",
            "Epoch 23/100\n",
            "8000/8000 [==============================] - 0s 2us/step - loss: 0.6054 - acc: 0.7484\n",
            "Epoch 24/100\n",
            "8000/8000 [==============================] - 0s 2us/step - loss: 0.6007 - acc: 0.7554\n",
            "Epoch 25/100\n",
            "8000/8000 [==============================] - 0s 2us/step - loss: 0.5960 - acc: 0.7625\n",
            "Epoch 26/100\n",
            "8000/8000 [==============================] - 0s 2us/step - loss: 0.5916 - acc: 0.7657\n",
            "Epoch 27/100\n",
            "8000/8000 [==============================] - 0s 1us/step - loss: 0.5874 - acc: 0.7695\n",
            "Epoch 28/100\n",
            "8000/8000 [==============================] - 0s 1us/step - loss: 0.5832 - acc: 0.7714\n",
            "Epoch 29/100\n",
            "8000/8000 [==============================] - 0s 2us/step - loss: 0.5792 - acc: 0.7748\n",
            "Epoch 30/100\n",
            "8000/8000 [==============================] - 0s 2us/step - loss: 0.5753 - acc: 0.7774\n",
            "Epoch 31/100\n",
            "8000/8000 [==============================] - 0s 2us/step - loss: 0.5715 - acc: 0.7796\n",
            "Epoch 32/100\n",
            "8000/8000 [==============================] - 0s 1us/step - loss: 0.5678 - acc: 0.7820\n",
            "Epoch 33/100\n",
            "8000/8000 [==============================] - 0s 2us/step - loss: 0.5641 - acc: 0.7853\n",
            "Epoch 34/100\n",
            "8000/8000 [==============================] - 0s 2us/step - loss: 0.5606 - acc: 0.7870\n",
            "Epoch 35/100\n",
            "8000/8000 [==============================] - 0s 2us/step - loss: 0.5572 - acc: 0.7878\n",
            "Epoch 36/100\n",
            "8000/8000 [==============================] - 0s 2us/step - loss: 0.5539 - acc: 0.7889\n",
            "Epoch 37/100\n",
            "8000/8000 [==============================] - 0s 2us/step - loss: 0.5506 - acc: 0.7897\n",
            "Epoch 38/100\n",
            "8000/8000 [==============================] - 0s 2us/step - loss: 0.5475 - acc: 0.7911\n",
            "Epoch 39/100\n",
            "8000/8000 [==============================] - 0s 2us/step - loss: 0.5443 - acc: 0.7921\n",
            "Epoch 40/100\n",
            "8000/8000 [==============================] - 0s 2us/step - loss: 0.5413 - acc: 0.7932\n",
            "Epoch 41/100\n",
            "8000/8000 [==============================] - 0s 2us/step - loss: 0.5384 - acc: 0.7936\n",
            "Epoch 42/100\n",
            "8000/8000 [==============================] - 0s 2us/step - loss: 0.5355 - acc: 0.7942\n",
            "Epoch 43/100\n",
            "8000/8000 [==============================] - 0s 2us/step - loss: 0.5326 - acc: 0.7945\n",
            "Epoch 44/100\n",
            "8000/8000 [==============================] - 0s 1us/step - loss: 0.5298 - acc: 0.7948\n",
            "Epoch 45/100\n",
            "8000/8000 [==============================] - 0s 2us/step - loss: 0.5271 - acc: 0.7947\n",
            "Epoch 46/100\n",
            "8000/8000 [==============================] - 0s 2us/step - loss: 0.5245 - acc: 0.7945\n",
            "Epoch 47/100\n",
            "8000/8000 [==============================] - 0s 2us/step - loss: 0.5220 - acc: 0.7949\n",
            "Epoch 48/100\n",
            "8000/8000 [==============================] - 0s 1us/step - loss: 0.5195 - acc: 0.7953\n",
            "Epoch 49/100\n",
            "8000/8000 [==============================] - 0s 1us/step - loss: 0.5171 - acc: 0.7951\n",
            "Epoch 50/100\n",
            "8000/8000 [==============================] - 0s 1us/step - loss: 0.5147 - acc: 0.7954\n",
            "Epoch 51/100\n",
            "8000/8000 [==============================] - 0s 2us/step - loss: 0.5124 - acc: 0.7957\n",
            "Epoch 52/100\n",
            "8000/8000 [==============================] - 0s 2us/step - loss: 0.5102 - acc: 0.7959\n",
            "Epoch 53/100\n",
            "8000/8000 [==============================] - 0s 1us/step - loss: 0.5081 - acc: 0.7959\n",
            "Epoch 54/100\n",
            "8000/8000 [==============================] - 0s 1us/step - loss: 0.5060 - acc: 0.7961\n",
            "Epoch 55/100\n",
            "8000/8000 [==============================] - 0s 2us/step - loss: 0.5039 - acc: 0.7964\n",
            "Epoch 56/100\n",
            "8000/8000 [==============================] - 0s 1us/step - loss: 0.5019 - acc: 0.7964\n",
            "Epoch 57/100\n",
            "8000/8000 [==============================] - 0s 2us/step - loss: 0.5000 - acc: 0.7964\n",
            "Epoch 58/100\n",
            "8000/8000 [==============================] - 0s 1us/step - loss: 0.4981 - acc: 0.7965\n",
            "Epoch 59/100\n",
            "8000/8000 [==============================] - 0s 1us/step - loss: 0.4963 - acc: 0.7966\n",
            "Epoch 60/100\n",
            "8000/8000 [==============================] - 0s 2us/step - loss: 0.4945 - acc: 0.7966\n",
            "Epoch 61/100\n",
            "8000/8000 [==============================] - 0s 2us/step - loss: 0.4927 - acc: 0.7967\n",
            "Epoch 62/100\n",
            "8000/8000 [==============================] - 0s 2us/step - loss: 0.4910 - acc: 0.7966\n",
            "Epoch 63/100\n",
            "8000/8000 [==============================] - 0s 2us/step - loss: 0.4893 - acc: 0.7967\n",
            "Epoch 64/100\n",
            "8000/8000 [==============================] - 0s 1us/step - loss: 0.4876 - acc: 0.7969\n",
            "Epoch 65/100\n",
            "8000/8000 [==============================] - 0s 2us/step - loss: 0.4860 - acc: 0.7969\n",
            "Epoch 66/100\n",
            "8000/8000 [==============================] - 0s 1us/step - loss: 0.4845 - acc: 0.7968\n",
            "Epoch 67/100\n",
            "8000/8000 [==============================] - 0s 1us/step - loss: 0.4829 - acc: 0.7970\n",
            "Epoch 68/100\n",
            "8000/8000 [==============================] - 0s 1us/step - loss: 0.4814 - acc: 0.7974\n",
            "Epoch 69/100\n",
            "8000/8000 [==============================] - 0s 2us/step - loss: 0.4798 - acc: 0.7974\n",
            "Epoch 70/100\n",
            "8000/8000 [==============================] - 0s 1us/step - loss: 0.4784 - acc: 0.7976\n",
            "Epoch 71/100\n",
            "8000/8000 [==============================] - 0s 2us/step - loss: 0.4770 - acc: 0.7976\n",
            "Epoch 72/100\n",
            "8000/8000 [==============================] - 0s 1us/step - loss: 0.4755 - acc: 0.7976\n",
            "Epoch 73/100\n",
            "8000/8000 [==============================] - 0s 2us/step - loss: 0.4742 - acc: 0.7978\n",
            "Epoch 74/100\n",
            "8000/8000 [==============================] - 0s 2us/step - loss: 0.4728 - acc: 0.7980\n",
            "Epoch 75/100\n",
            "8000/8000 [==============================] - 0s 2us/step - loss: 0.4715 - acc: 0.7981\n",
            "Epoch 76/100\n",
            "8000/8000 [==============================] - 0s 2us/step - loss: 0.4702 - acc: 0.7983\n",
            "Epoch 77/100\n",
            "8000/8000 [==============================] - 0s 1us/step - loss: 0.4689 - acc: 0.7984\n",
            "Epoch 78/100\n",
            "8000/8000 [==============================] - 0s 2us/step - loss: 0.4677 - acc: 0.7987\n",
            "Epoch 79/100\n",
            "8000/8000 [==============================] - 0s 2us/step - loss: 0.4664 - acc: 0.7989\n",
            "Epoch 80/100\n",
            "8000/8000 [==============================] - 0s 1us/step - loss: 0.4652 - acc: 0.7986\n",
            "Epoch 81/100\n",
            "8000/8000 [==============================] - 0s 1us/step - loss: 0.4641 - acc: 0.7995\n",
            "Epoch 82/100\n",
            "8000/8000 [==============================] - 0s 2us/step - loss: 0.4629 - acc: 0.7996\n",
            "Epoch 83/100\n",
            "8000/8000 [==============================] - 0s 2us/step - loss: 0.4618 - acc: 0.8001\n",
            "Epoch 84/100\n",
            "8000/8000 [==============================] - 0s 2us/step - loss: 0.4607 - acc: 0.8005\n",
            "Epoch 85/100\n",
            "8000/8000 [==============================] - 0s 2us/step - loss: 0.4596 - acc: 0.8006\n",
            "Epoch 86/100\n",
            "8000/8000 [==============================] - 0s 2us/step - loss: 0.4586 - acc: 0.8010\n",
            "Epoch 87/100\n",
            "8000/8000 [==============================] - 0s 2us/step - loss: 0.4575 - acc: 0.8010\n",
            "Epoch 88/100\n",
            "8000/8000 [==============================] - 0s 2us/step - loss: 0.4565 - acc: 0.8010\n",
            "Epoch 89/100\n",
            "8000/8000 [==============================] - 0s 2us/step - loss: 0.4555 - acc: 0.8011\n",
            "Epoch 90/100\n",
            "8000/8000 [==============================] - 0s 2us/step - loss: 0.4545 - acc: 0.8014\n",
            "Epoch 91/100\n",
            "8000/8000 [==============================] - 0s 2us/step - loss: 0.4535 - acc: 0.8014\n",
            "Epoch 92/100\n",
            "8000/8000 [==============================] - 0s 2us/step - loss: 0.4526 - acc: 0.8015\n",
            "Epoch 93/100\n",
            "8000/8000 [==============================] - 0s 2us/step - loss: 0.4517 - acc: 0.8020\n",
            "Epoch 94/100\n",
            "8000/8000 [==============================] - 0s 2us/step - loss: 0.4508 - acc: 0.8024\n",
            "Epoch 95/100\n",
            "8000/8000 [==============================] - 0s 2us/step - loss: 0.4500 - acc: 0.8021\n",
            "Epoch 96/100\n",
            "8000/8000 [==============================] - 0s 2us/step - loss: 0.4491 - acc: 0.8022\n",
            "Epoch 97/100\n",
            "8000/8000 [==============================] - 0s 2us/step - loss: 0.4483 - acc: 0.8024\n",
            "Epoch 98/100\n",
            "8000/8000 [==============================] - 0s 2us/step - loss: 0.4475 - acc: 0.8024\n",
            "Epoch 99/100\n",
            "8000/8000 [==============================] - 0s 2us/step - loss: 0.4468 - acc: 0.8028\n",
            "Epoch 100/100\n",
            "8000/8000 [==============================] - 0s 1us/step - loss: 0.4460 - acc: 0.8032\n"
          ],
          "name": "stdout"
        },
        {
          "output_type": "execute_result",
          "data": {
            "text/plain": [
              "<keras.callbacks.History at 0x7f6890f9f630>"
            ]
          },
          "metadata": {
            "tags": []
          },
          "execution_count": 51
        }
      ]
    },
    {
      "cell_type": "code",
      "metadata": {
        "id": "jWzh29CxKo7L",
        "colab_type": "code",
        "colab": {
          "base_uri": "https://localhost:8080/",
          "height": 134
        },
        "outputId": "78052754-6a40-4716-e9dc-79a5feb07238"
      },
      "source": [
        "model.predict(x)"
      ],
      "execution_count": 52,
      "outputs": [
        {
          "output_type": "execute_result",
          "data": {
            "text/plain": [
              "array([[0.39616668],\n",
              "       [0.3099643 ],\n",
              "       [0.10940841],\n",
              "       ...,\n",
              "       [0.06001726],\n",
              "       [0.20676488],\n",
              "       [0.10148191]], dtype=float32)"
            ]
          },
          "metadata": {
            "tags": []
          },
          "execution_count": 52
        }
      ]
    },
    {
      "cell_type": "code",
      "metadata": {
        "id": "EeTxjdT-K70R",
        "colab_type": "code",
        "colab": {}
      },
      "source": [
        ""
      ],
      "execution_count": 0,
      "outputs": []
    }
  ]
}