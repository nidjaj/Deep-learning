{
  "nbformat": 4,
  "nbformat_minor": 0,
  "metadata": {
    "colab": {
      "name": "tokenizer.ipynb",
      "version": "0.3.2",
      "provenance": [],
      "collapsed_sections": [],
      "include_colab_link": true
    },
    "kernelspec": {
      "name": "python3",
      "display_name": "Python 3"
    }
  },
  "cells": [
    {
      "cell_type": "markdown",
      "metadata": {
        "id": "view-in-github",
        "colab_type": "text"
      },
      "source": [
        "<a href=\"https://colab.research.google.com/github/nidjaj/Deep-learning/blob/master/tokenizer.ipynb\" target=\"_parent\"><img src=\"https://colab.research.google.com/assets/colab-badge.svg\" alt=\"Open In Colab\"/></a>"
      ]
    },
    {
      "cell_type": "code",
      "metadata": {
        "id": "lIjOhx28QNlt",
        "colab_type": "code",
        "colab": {}
      },
      "source": [
        "msg='''\n",
        "i love it when you call me senorita ,i wish i could pretend\n",
        "i didn't need yaa but every touch is ohh la la la!!! its true la la la!!! \n",
        "ohh i should be running ohh you keep me coming for yaa. Land in miami ,\n",
        "the air was hot from summer rain sweat drippin' off me ,\n",
        "before i even knew her name la-la-la,it felt like ooh la-la-la yeah , no\n",
        "\n",
        "'''"
      ],
      "execution_count": 0,
      "outputs": []
    },
    {
      "cell_type": "code",
      "metadata": {
        "id": "1_6RCtx7YpKn",
        "colab_type": "code",
        "colab": {}
      },
      "source": [
        "# import tokenizer\n",
        "from nltk.tokenize import sent_tokenize\n",
        "from nltk.tokenize import word_tokenize"
      ],
      "execution_count": 0,
      "outputs": []
    },
    {
      "cell_type": "code",
      "metadata": {
        "id": "guWBzUh6ZhNf",
        "colab_type": "code",
        "colab": {}
      },
      "source": [
        "# sentence tokenizer\n",
        "sent=sent_tokenize(msg)"
      ],
      "execution_count": 0,
      "outputs": []
    },
    {
      "cell_type": "code",
      "metadata": {
        "id": "wYEY2GwUaEOC",
        "colab_type": "code",
        "colab": {
          "base_uri": "https://localhost:8080/",
          "height": 67
        },
        "outputId": "5fc2fc5b-d38a-4500-cf39-2ff29278cf7c"
      },
      "source": [
        "\n",
        "import nltk\n",
        "nltk.download('punkt')"
      ],
      "execution_count": 5,
      "outputs": [
        {
          "output_type": "stream",
          "text": [
            "[nltk_data] Downloading package punkt to /root/nltk_data...\n",
            "[nltk_data]   Unzipping tokenizers/punkt.zip.\n"
          ],
          "name": "stdout"
        },
        {
          "output_type": "execute_result",
          "data": {
            "text/plain": [
              "True"
            ]
          },
          "metadata": {
            "tags": []
          },
          "execution_count": 5
        }
      ]
    },
    {
      "cell_type": "code",
      "metadata": {
        "id": "gadV4afWaS25",
        "colab_type": "code",
        "colab": {
          "base_uri": "https://localhost:8080/",
          "height": 84
        },
        "outputId": "ec3f828a-07e3-472b-e470-06ddb71546b3"
      },
      "source": [
        "sent"
      ],
      "execution_count": 7,
      "outputs": [
        {
          "output_type": "execute_result",
          "data": {
            "text/plain": [
              "[\"\\ni love it when you call me senorita ,i wish i could pretend\\ni didn't need yaa but every touch is ohh la la la!!!\",\n",
              " 'its true la la la!!!',\n",
              " 'ohh i should be running ohh you keep me coming for yaa.',\n",
              " \"Land in miami ,\\nthe air was hot from summer rain sweat drippin' off me ,\\nbefore i even knew her name la-la-la,it felt like ooh la-la-la yeah , no\"]"
            ]
          },
          "metadata": {
            "tags": []
          },
          "execution_count": 7
        }
      ]
    },
    {
      "cell_type": "code",
      "metadata": {
        "id": "bulSjdoXaYV9",
        "colab_type": "code",
        "colab": {}
      },
      "source": [
        "# now word tokenizer\n",
        "word=word_tokenize(msg)"
      ],
      "execution_count": 0,
      "outputs": []
    },
    {
      "cell_type": "code",
      "metadata": {
        "id": "wFlxrMfHak41",
        "colab_type": "code",
        "colab": {
          "base_uri": "https://localhost:8080/",
          "height": 1000
        },
        "outputId": "4ee67b3e-21f9-4da3-88d5-cbabaf7a8181"
      },
      "source": [
        "word"
      ],
      "execution_count": 10,
      "outputs": [
        {
          "output_type": "execute_result",
          "data": {
            "text/plain": [
              "['i',\n",
              " 'love',\n",
              " 'it',\n",
              " 'when',\n",
              " 'you',\n",
              " 'call',\n",
              " 'me',\n",
              " 'senorita',\n",
              " ',',\n",
              " 'i',\n",
              " 'wish',\n",
              " 'i',\n",
              " 'could',\n",
              " 'pretend',\n",
              " 'i',\n",
              " 'did',\n",
              " \"n't\",\n",
              " 'need',\n",
              " 'yaa',\n",
              " 'but',\n",
              " 'every',\n",
              " 'touch',\n",
              " 'is',\n",
              " 'ohh',\n",
              " 'la',\n",
              " 'la',\n",
              " 'la',\n",
              " '!',\n",
              " '!',\n",
              " '!',\n",
              " 'its',\n",
              " 'true',\n",
              " 'la',\n",
              " 'la',\n",
              " 'la',\n",
              " '!',\n",
              " '!',\n",
              " '!',\n",
              " 'ohh',\n",
              " 'i',\n",
              " 'should',\n",
              " 'be',\n",
              " 'running',\n",
              " 'ohh',\n",
              " 'you',\n",
              " 'keep',\n",
              " 'me',\n",
              " 'coming',\n",
              " 'for',\n",
              " 'yaa',\n",
              " '.',\n",
              " 'Land',\n",
              " 'in',\n",
              " 'miami',\n",
              " ',',\n",
              " 'the',\n",
              " 'air',\n",
              " 'was',\n",
              " 'hot',\n",
              " 'from',\n",
              " 'summer',\n",
              " 'rain',\n",
              " 'sweat',\n",
              " 'drippin',\n",
              " \"'\",\n",
              " 'off',\n",
              " 'me',\n",
              " ',',\n",
              " 'before',\n",
              " 'i',\n",
              " 'even',\n",
              " 'knew',\n",
              " 'her',\n",
              " 'name',\n",
              " 'la-la-la',\n",
              " ',',\n",
              " 'it',\n",
              " 'felt',\n",
              " 'like',\n",
              " 'ooh',\n",
              " 'la-la-la',\n",
              " 'yeah',\n",
              " ',',\n",
              " 'no']"
            ]
          },
          "metadata": {
            "tags": []
          },
          "execution_count": 10
        }
      ]
    },
    {
      "cell_type": "code",
      "metadata": {
        "id": "1bHG3XX5avSr",
        "colab_type": "code",
        "colab": {
          "base_uri": "https://localhost:8080/",
          "height": 33
        },
        "outputId": "d0cd9b99-4618-4245-8a76-ad3cf55ba68c"
      },
      "source": [
        "len(word)"
      ],
      "execution_count": 11,
      "outputs": [
        {
          "output_type": "execute_result",
          "data": {
            "text/plain": [
              "84"
            ]
          },
          "metadata": {
            "tags": []
          },
          "execution_count": 11
        }
      ]
    },
    {
      "cell_type": "code",
      "metadata": {
        "id": "mfnIzQPpaw_p",
        "colab_type": "code",
        "colab": {}
      },
      "source": [
        "from nltk.corpus import stopwords"
      ],
      "execution_count": 0,
      "outputs": []
    },
    {
      "cell_type": "code",
      "metadata": {
        "id": "CdmqmcEubXYu",
        "colab_type": "code",
        "colab": {}
      },
      "source": [
        "new_words=[i for i in word if i.lower() not in stopwords.words('english')]"
      ],
      "execution_count": 0,
      "outputs": []
    },
    {
      "cell_type": "code",
      "metadata": {
        "id": "-CRETgYabvBQ",
        "colab_type": "code",
        "colab": {}
      },
      "source": [
        "nlpremove=nltk.FreqDist(new_words)"
      ],
      "execution_count": 0,
      "outputs": []
    },
    {
      "cell_type": "code",
      "metadata": {
        "id": "JsZuZ7ZiceS2",
        "colab_type": "code",
        "colab": {
          "base_uri": "https://localhost:8080/",
          "height": 636
        },
        "outputId": "1d21451b-2917-45dd-aa29-0b9c66541bb7"
      },
      "source": [
        "nlpremove"
      ],
      "execution_count": 18,
      "outputs": [
        {
          "output_type": "execute_result",
          "data": {
            "text/plain": [
              "FreqDist({'!': 6,\n",
              "          \"'\": 1,\n",
              "          ',': 5,\n",
              "          '.': 1,\n",
              "          'Land': 1,\n",
              "          'air': 1,\n",
              "          'call': 1,\n",
              "          'coming': 1,\n",
              "          'could': 1,\n",
              "          'drippin': 1,\n",
              "          'even': 1,\n",
              "          'every': 1,\n",
              "          'felt': 1,\n",
              "          'hot': 1,\n",
              "          'keep': 1,\n",
              "          'knew': 1,\n",
              "          'la': 6,\n",
              "          'la-la-la': 2,\n",
              "          'like': 1,\n",
              "          'love': 1,\n",
              "          'miami': 1,\n",
              "          \"n't\": 1,\n",
              "          'name': 1,\n",
              "          'need': 1,\n",
              "          'ohh': 3,\n",
              "          'ooh': 1,\n",
              "          'pretend': 1,\n",
              "          'rain': 1,\n",
              "          'running': 1,\n",
              "          'senorita': 1,\n",
              "          'summer': 1,\n",
              "          'sweat': 1,\n",
              "          'touch': 1,\n",
              "          'true': 1,\n",
              "          'wish': 1,\n",
              "          'yaa': 2,\n",
              "          'yeah': 1})"
            ]
          },
          "metadata": {
            "tags": []
          },
          "execution_count": 18
        }
      ]
    },
    {
      "cell_type": "code",
      "metadata": {
        "id": "HAmz6HazchJ5",
        "colab_type": "code",
        "colab": {}
      },
      "source": [
        ""
      ],
      "execution_count": 0,
      "outputs": []
    }
  ]
}